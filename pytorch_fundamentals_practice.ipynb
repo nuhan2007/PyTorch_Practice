{
  "nbformat": 4,
  "nbformat_minor": 0,
  "metadata": {
    "colab": {
      "provenance": [],
      "toc_visible": true,
      "authorship_tag": "ABX9TyMH38N/sayLiAzWbKpImt6j",
      "include_colab_link": true
    },
    "kernelspec": {
      "name": "python3",
      "display_name": "Python 3"
    },
    "language_info": {
      "name": "python"
    }
  },
  "cells": [
    {
      "cell_type": "markdown",
      "metadata": {
        "id": "view-in-github",
        "colab_type": "text"
      },
      "source": [
        "<a href=\"https://colab.research.google.com/github/nuhan2007/PyTorch_Practice/blob/pytorch_fundamentals/pytorch_fundamentals_practice.ipynb\" target=\"_parent\"><img src=\"https://colab.research.google.com/assets/colab-badge.svg\" alt=\"Open In Colab\"/></a>"
      ]
    },
    {
      "cell_type": "code",
      "execution_count": 2,
      "metadata": {
        "colab": {
          "base_uri": "https://localhost:8080/"
        },
        "id": "ucVF5jCMPyby",
        "outputId": "65569f13-3ab6-4bd4-8d18-568d4faa334a"
      },
      "outputs": [
        {
          "output_type": "stream",
          "name": "stdout",
          "text": [
            "2.6.0+cu124\n"
          ]
        }
      ],
      "source": [
        "import torch\n",
        "import pandas as pd\n",
        "import numpy as np\n",
        "import matplotlib.pyplot as plt\n",
        "\n",
        "print(torch.__version__)"
      ]
    },
    {
      "cell_type": "code",
      "source": [
        "scalar = torch.tensor(7) # returns tensor(7)\n",
        "print(scalar.item()) # returns 7 as Python int\n",
        "print(scalar.ndim) # number of dimensions = 0"
      ],
      "metadata": {
        "colab": {
          "base_uri": "https://localhost:8080/"
        },
        "id": "pvnVe9VZQ6yp",
        "outputId": "642fe179-a818-4f21-f068-3f1f2b3e8014"
      },
      "execution_count": null,
      "outputs": [
        {
          "output_type": "stream",
          "name": "stdout",
          "text": [
            "7\n",
            "0\n"
          ]
        }
      ]
    },
    {
      "cell_type": "code",
      "source": [
        "#Vector\n",
        "vector = torch.tensor([7, 7]) # returns tensor([7, 7])\n",
        "print(vector.ndim) # number of dimensions(square brackets) = 1\n",
        "print(vector.shape) # = 2 since 2x1 matrix\n",
        "print(vector[1])"
      ],
      "metadata": {
        "colab": {
          "base_uri": "https://localhost:8080/"
        },
        "id": "2Mp_0OYhVmzY",
        "outputId": "6fce4289-a7be-48ad-febd-2eab8c18cbd4"
      },
      "execution_count": null,
      "outputs": [
        {
          "output_type": "stream",
          "name": "stdout",
          "text": [
            "1\n",
            "torch.Size([2])\n",
            "tensor(7)\n"
          ]
        }
      ]
    },
    {
      "cell_type": "code",
      "source": [
        "# MATRIX\n",
        "MATRIX = torch.tensor([[7, 8],\n",
        "                      [9, 10]])\n",
        "print(MATRIX.ndim) # 2 pairs of square brackets\n",
        "print(MATRIX.shape) # [2, 2] since 2x2 matrix\n",
        "print(MATRIX[0])\n",
        "print(MATRIX[1][1])"
      ],
      "metadata": {
        "colab": {
          "base_uri": "https://localhost:8080/"
        },
        "id": "2n5IKM87XId0",
        "outputId": "2a9517bc-e5ea-44b6-fa4f-fc2ed088d79c"
      },
      "execution_count": null,
      "outputs": [
        {
          "output_type": "stream",
          "name": "stdout",
          "text": [
            "2\n",
            "torch.Size([2, 2])\n",
            "tensor([7, 8])\n",
            "tensor(10)\n"
          ]
        }
      ]
    },
    {
      "cell_type": "code",
      "source": [
        "# TENSOR\n",
        "TENSOR = torch.tensor([[[1, 2, 3],\n",
        "                        [4, 5, 6],\n",
        "                        [7, 8, 9]]])\n",
        "print(TENSOR.ndim)\n",
        "print(TENSOR.shape)\n",
        "print(TENSOR[0][2])\n",
        "print(TENSOR[0][2][1])"
      ],
      "metadata": {
        "colab": {
          "base_uri": "https://localhost:8080/"
        },
        "id": "Gc3aN_w4XxYm",
        "outputId": "95351d75-1b4f-40cb-bd0e-2637f293d04d"
      },
      "execution_count": null,
      "outputs": [
        {
          "output_type": "stream",
          "name": "stdout",
          "text": [
            "3\n",
            "torch.Size([1, 3, 3])\n",
            "tensor([7, 8, 9])\n",
            "tensor(8)\n"
          ]
        }
      ]
    },
    {
      "cell_type": "code",
      "source": [
        "### Random tensors\n",
        "random_tensor = torch.rand(3, 4) * 10  ### 2 dimensions\n",
        "random_tensor2 = torch.rand(size = (1, 3, 4)) * 10 ### 3 dimensions\n",
        "print(random_tensor)\n",
        "print(random_tensor2)"
      ],
      "metadata": {
        "colab": {
          "base_uri": "https://localhost:8080/"
        },
        "id": "WcJyJmQoAGG1",
        "outputId": "b2944b3b-18a0-40e6-ae52-bac43dc273d8"
      },
      "execution_count": null,
      "outputs": [
        {
          "output_type": "stream",
          "name": "stdout",
          "text": [
            "tensor([[9.4776, 0.4976, 0.5145, 5.4100],\n",
            "        [2.0606, 9.4142, 5.6589, 9.7219],\n",
            "        [1.4849, 7.9673, 6.9258, 7.5331]])\n",
            "tensor([[[8.7576, 3.4762, 2.6401, 9.4444],\n",
            "         [0.6243, 8.0424, 5.0687, 4.6323],\n",
            "         [6.2465, 3.8556, 0.9075, 1.0655]]])\n"
          ]
        }
      ]
    },
    {
      "cell_type": "code",
      "source": [
        "# Create a tensor of all zeros\n",
        "zeros = torch.zeros(size = (3, 4))\n",
        "ones = torch.ones(size = (3, 4))\n",
        "print(zeros)\n",
        "print()\n",
        "print(ones)"
      ],
      "metadata": {
        "colab": {
          "base_uri": "https://localhost:8080/"
        },
        "id": "uUt0KicTMdMV",
        "outputId": "95099c23-a704-432a-d5dc-e6804bbc48cd"
      },
      "execution_count": null,
      "outputs": [
        {
          "output_type": "stream",
          "name": "stdout",
          "text": [
            "tensor([[0., 0., 0., 0.],\n",
            "        [0., 0., 0., 0.],\n",
            "        [0., 0., 0., 0.]])\n",
            "\n",
            "tensor([[1., 1., 1., 1.],\n",
            "        [1., 1., 1., 1.],\n",
            "        [1., 1., 1., 1.]])\n"
          ]
        }
      ]
    },
    {
      "cell_type": "code",
      "source": [
        "### Creating a range of tensors\n",
        "one_to_ten = torch.arange(0, 10) + 1 # or torch.arange(1, 11)\n",
        "print(one_to_ten) # note: torch.range() may be deprecated soon\n",
        "print(torch.arange(start = 0, end = 1000, step = 175))\n",
        "\n",
        "### Creating tensors like\n",
        "ten_zeros = torch.zeros_like(one_to_ten)\n",
        "print(ten_zeros)"
      ],
      "metadata": {
        "colab": {
          "base_uri": "https://localhost:8080/"
        },
        "id": "Ow5uC1O3Ng4w",
        "outputId": "0bbe6683-2c85-4081-f6a0-b770076f238e"
      },
      "execution_count": null,
      "outputs": [
        {
          "output_type": "stream",
          "name": "stdout",
          "text": [
            "tensor([ 1,  2,  3,  4,  5,  6,  7,  8,  9, 10])\n",
            "tensor([  0, 175, 350, 525, 700, 875])\n",
            "tensor([0, 0, 0, 0, 0, 0, 0, 0, 0, 0])\n"
          ]
        }
      ]
    },
    {
      "cell_type": "code",
      "source": [
        "### Tensor Data Types\n",
        "### NOTE:: data types 1 of the 3 big errors you'll run into w/ Pytorch DL\n",
        "\n",
        "float_32_tensor = torch.tensor([3.0, 6.0, 9.0],\n",
        "                               dtype=None, # can use torch.float16 instead\n",
        "                               device=None, # cpu or gpu?\n",
        "                               requires_grad=False) # yes/no track gradient?\n",
        "print(float_32_tensor)\n",
        "print(float_32_tensor.dtype)\n",
        "\n",
        "float_16_tensor = float_32_tensor.type(torch.float16) # look up torch.tensor\n",
        "print(float_16_tensor)\n",
        "print(float_16_tensor.dtype)\n",
        "\n",
        "float_16_tensor = float_16_tensor * float_32_tensor\n",
        "print(float_16_tensor)"
      ],
      "metadata": {
        "colab": {
          "base_uri": "https://localhost:8080/"
        },
        "id": "9jH56x2bAW4L",
        "outputId": "da5ddb80-481d-4f6d-e142-e4a1e7c4cde5"
      },
      "execution_count": null,
      "outputs": [
        {
          "output_type": "stream",
          "name": "stdout",
          "text": [
            "tensor([3., 6., 9.])\n",
            "torch.float32\n",
            "tensor([3., 6., 9.], dtype=torch.float16)\n",
            "torch.float16\n",
            "tensor([ 9., 36., 81.])\n"
          ]
        }
      ]
    },
    {
      "cell_type": "code",
      "source": [
        "### Getting information (attributes) from tensors\n",
        "some_tensor = torch.rand(3, 4)\n",
        "print(f\"Datatype of tensor == {some_tensor.dtype}\")\n",
        "some_tensor = some_tensor.type(torch.float16)\n",
        "print(f\"Datatype of tensor == {some_tensor.dtype}\")\n",
        "print(f\"Shape of tensor == {some_tensor.shape}\")\n",
        "print(f\"Num dimensions of tensor == {some_tensor.ndim}\")"
      ],
      "metadata": {
        "colab": {
          "base_uri": "https://localhost:8080/"
        },
        "id": "cz-5bcDSIwCf",
        "outputId": "e86560ab-09ab-4193-ecc3-8cde77863cf1"
      },
      "execution_count": null,
      "outputs": [
        {
          "output_type": "stream",
          "name": "stdout",
          "text": [
            "Datatype of tensor == torch.float32\n",
            "Datatype of tensor == torch.float16\n",
            "Shape of tensor == torch.Size([3, 4])\n",
            "Num dimensions of tensor == 2\n"
          ]
        }
      ]
    },
    {
      "cell_type": "code",
      "source": [
        "### Integer Tensors\n",
        "int_tensor = torch.randint(low = 0, high = 100, size = (3, 4), dtype=torch.int32) # random int tensor\n",
        "print(int_tensor)"
      ],
      "metadata": {
        "colab": {
          "base_uri": "https://localhost:8080/"
        },
        "id": "CW-H2V3b8h9H",
        "outputId": "a1770aa9-5523-417e-fff8-4d0804a2fce4"
      },
      "execution_count": null,
      "outputs": [
        {
          "output_type": "stream",
          "name": "stdout",
          "text": [
            "tensor([[39, 75, 53, 80],\n",
            "        [68,  9, 18, 91],\n",
            "        [22, 96, 30, 84]], dtype=torch.int32)\n"
          ]
        }
      ]
    },
    {
      "cell_type": "code",
      "source": [
        "### Tensor Operations\n",
        "tensor_one = torch.tensor([[1, 2, 3],\n",
        "                           [5, 9, 4]])\n",
        "\n",
        "# multiplication (same thing):\n",
        "result_tensor = tensor_one * 5\n",
        "result_tensor = torch.mul(tensor_one, 5)\n",
        "\n",
        "# element-wise\n",
        "tensor_two = torch.tensor([1, 2, 3])\n",
        "print(tensor_two, \"*\", tensor_two)\n",
        "print(f\"equals: {tensor_two * tensor_two}\")\n",
        "\n",
        "# matrix multiplication (1d a bit different)\n",
        "print(torch.matmul(tensor_two, tensor_two))"
      ],
      "metadata": {
        "colab": {
          "base_uri": "https://localhost:8080/"
        },
        "id": "ic4Mzxvf908c",
        "outputId": "3cbfbd00-74b9-49a6-dbb9-cd44c92dc83d"
      },
      "execution_count": null,
      "outputs": [
        {
          "output_type": "stream",
          "name": "stdout",
          "text": [
            "tensor([1, 2, 3]) * tensor([1, 2, 3])\n",
            "equals: tensor([1, 4, 9])\n",
            "tensor(14)\n"
          ]
        }
      ]
    },
    {
      "cell_type": "code",
      "source": [
        "#Comparing Runtimes of built-in vs custom functions\n",
        "\n",
        "%%time\n",
        "value = 0\n",
        "for i in range(len(tensor_two)):\n",
        "  value += tensor_two[i] * tensor_two[i]\n",
        "value"
      ],
      "metadata": {
        "colab": {
          "base_uri": "https://localhost:8080/"
        },
        "id": "5-d38RFhJZEj",
        "outputId": "462f2ac2-7701-4bff-9a6d-6dfc356aeb35"
      },
      "execution_count": null,
      "outputs": [
        {
          "output_type": "stream",
          "name": "stdout",
          "text": [
            "CPU times: user 477 µs, sys: 74 µs, total: 551 µs\n",
            "Wall time: 5.59 ms\n"
          ]
        },
        {
          "output_type": "execute_result",
          "data": {
            "text/plain": [
              "tensor(14)"
            ]
          },
          "metadata": {},
          "execution_count": 13
        }
      ]
    },
    {
      "cell_type": "code",
      "source": [
        "%%time\n",
        "torch.matmul(tensor_two, tensor_two)"
      ],
      "metadata": {
        "colab": {
          "base_uri": "https://localhost:8080/"
        },
        "id": "VvydD5fKJtWF",
        "outputId": "9338eb23-7e11-42de-b764-1fea4bb70294"
      },
      "execution_count": null,
      "outputs": [
        {
          "output_type": "stream",
          "name": "stdout",
          "text": [
            "CPU times: user 60 µs, sys: 9 µs, total: 69 µs\n",
            "Wall time: 72.2 µs\n"
          ]
        },
        {
          "output_type": "execute_result",
          "data": {
            "text/plain": [
              "tensor(14)"
            ]
          },
          "metadata": {},
          "execution_count": 14
        }
      ]
    },
    {
      "cell_type": "code",
      "source": [
        "### NOTE:: shape is another one of the 3 big errors you'll run into w/ Pytorch\n",
        "### Matrix multiplication (not 1d):\n",
        "\n",
        "## Rules: inner dims must match --- outer dims = result matrix dims\n",
        "tensor1 = torch.rand(3, 2)\n",
        "tensor2 = torch.rand(2, 4)\n",
        "result_tensor = torch.matmul(tensor1, tensor2)\n",
        "## since 2 == 2, 3x3 result matrix\n",
        "\n",
        "print(result_tensor)\n",
        "\n",
        "tensor1 = torch.tensor([[1 ,2],\n",
        "                        [3, 4],\n",
        "                        [5, 6]])\n",
        "tensor2 = torch.tensor([[7, 8],\n",
        "                        [9, 10],\n",
        "                        [11, 12]])\n",
        "# 2 != 3...\n",
        "# to multiply we need a TRANSPOSE: swapping axes of a tensor\n",
        "print(tensor2.T)\n",
        "result_tensor = torch.matmul(tensor1, tensor2.T)\n",
        "print(result_tensor)\n"
      ],
      "metadata": {
        "colab": {
          "base_uri": "https://localhost:8080/"
        },
        "id": "GZMBVgKDwGOq",
        "outputId": "8921eba3-40d5-4977-e86b-3c1c2f181af2"
      },
      "execution_count": null,
      "outputs": [
        {
          "output_type": "stream",
          "name": "stdout",
          "text": [
            "tensor([[0.6339, 0.9827, 0.5883, 0.9454],\n",
            "        [0.5363, 0.9964, 0.6251, 1.0491],\n",
            "        [0.7346, 0.7138, 0.3536, 0.4537]])\n",
            "tensor([[ 7,  9, 11],\n",
            "        [ 8, 10, 12]])\n",
            "tensor([[ 23,  29,  35],\n",
            "        [ 53,  67,  81],\n",
            "        [ 83, 105, 127]])\n"
          ]
        }
      ]
    },
    {
      "cell_type": "code",
      "source": [
        "### TENSOR aggregation (mins, maxes, sums, means, etc)\n",
        "x = torch.arange(15, 100, 10)\n",
        "print(f\"torch.max(x) == {torch.max(x)} is the same as x.max() == {x.max()}\" )\n",
        "\n",
        "print(f\"torch.mean(x) error bc Long type --> torch.mean(x.type(torch.float32)) == {torch.mean(x.type(torch.float32))}\")\n",
        "print(f\"same with x.mean() --> x.type(torch.float32).mean() == {x.type(torch.float32).mean()}\")\n",
        "print(torch.sum(x), \"==\", x.sum())"
      ],
      "metadata": {
        "colab": {
          "base_uri": "https://localhost:8080/"
        },
        "id": "tH27Jdzjyi5u",
        "outputId": "a5a03798-eaae-4afd-d96e-5e64761758c1"
      },
      "execution_count": null,
      "outputs": [
        {
          "output_type": "stream",
          "name": "stdout",
          "text": [
            "torch.max(x) == 95 is the same as x.max() == 95\n",
            "torch.mean(x) error bc Long type --> torch.mean(x.type(torch.float32)) == 55.0\n",
            "same with x.mean() --> x.type(torch.float32).mean() == 55.0\n",
            "tensor(495) == tensor(495)\n"
          ]
        }
      ]
    },
    {
      "cell_type": "code",
      "source": [
        "### Find positional min/max/etc in tensors\n",
        "minPos = x.argmin()\n",
        "maxPos = x.argmax()\n",
        "print(minPos, maxPos)"
      ],
      "metadata": {
        "colab": {
          "base_uri": "https://localhost:8080/"
        },
        "id": "mlEVvffqGtoI",
        "outputId": "494cb85d-f983-4451-86a3-f382b1d671ca"
      },
      "execution_count": null,
      "outputs": [
        {
          "output_type": "stream",
          "name": "stdout",
          "text": [
            "tensor(0) tensor(8)\n"
          ]
        }
      ]
    },
    {
      "cell_type": "code",
      "source": [
        "# TENSOR Transformations\n",
        "\n",
        "x = torch.arange(1., 10.)\n",
        "\n",
        "# Reshaping\n",
        "mod_x = x.reshape(1,9)\n",
        "print(mod_x)\n",
        "mod_x = x.reshape(3, 3)\n",
        "print(mod_x, \"\\n\")\n",
        "\n",
        "# Change view\n",
        "z = x.view(3, 3)\n",
        "z[0][0] = 100 ### Shares same reference, changes x too\n",
        "print(x)\n",
        "print(z, \"\\n\")\n",
        "\n",
        "# Stacking tensors\n",
        "mod_x = x.flip(0)\n",
        "x_stacked = torch.stack([x, mod_x, x * 5], dim = 0)\n",
        "print(x_stacked, \"\\n\")\n",
        "\n",
        "sqeezed_x = x.squeeze() # removes all 1-dimensions\n",
        "unsqueezed_x = x.unsqueeze(dim = 0) # adds a 1-dim in specified dimension\n",
        "\n",
        "x = torch.rand(2, 3, 5)\n",
        "mod_x = torch.permute(x, (2, 0, 1)) # rearrange dimensions (0-indexedly)\n",
        "# permute is also something used frequently with images\n",
        "print(x.size(), \"\\n\", x, \"\\n\")\n",
        "print(mod_x.size(), \"\\n\", mod_x)\n",
        "# changing a value in x changes the values in mod_x\n"
      ],
      "metadata": {
        "colab": {
          "base_uri": "https://localhost:8080/"
        },
        "id": "ruubyE3vOffq",
        "outputId": "ea526b43-02e7-4d54-86de-30c066488a23"
      },
      "execution_count": 4,
      "outputs": [
        {
          "output_type": "stream",
          "name": "stdout",
          "text": [
            "tensor([[1., 2., 3., 4., 5., 6., 7., 8., 9.]])\n",
            "tensor([[1., 2., 3.],\n",
            "        [4., 5., 6.],\n",
            "        [7., 8., 9.]]) \n",
            "\n",
            "tensor([100.,   2.,   3.,   4.,   5.,   6.,   7.,   8.,   9.])\n",
            "tensor([[100.,   2.,   3.],\n",
            "        [  4.,   5.,   6.],\n",
            "        [  7.,   8.,   9.]]) \n",
            "\n",
            "tensor([[100.,   2.,   3.,   4.,   5.,   6.,   7.,   8.,   9.],\n",
            "        [  9.,   8.,   7.,   6.,   5.,   4.,   3.,   2., 100.],\n",
            "        [500.,  10.,  15.,  20.,  25.,  30.,  35.,  40.,  45.]]) \n",
            "\n",
            "torch.Size([2, 3, 5]) \n",
            " tensor([[[0.8301, 0.1948, 0.0432, 0.7437, 0.3911],\n",
            "         [0.1767, 0.3142, 0.3422, 0.9949, 0.2956],\n",
            "         [0.8004, 0.1709, 0.1516, 0.0172, 0.5776]],\n",
            "\n",
            "        [[0.3735, 0.8127, 0.5766, 0.3276, 0.1958],\n",
            "         [0.9937, 0.7575, 0.6647, 0.4432, 0.6203],\n",
            "         [0.8770, 0.0027, 0.1879, 0.4088, 0.1732]]]) \n",
            "\n",
            "torch.Size([5, 2, 3]) \n",
            " tensor([[[0.8301, 0.1767, 0.8004],\n",
            "         [0.3735, 0.9937, 0.8770]],\n",
            "\n",
            "        [[0.1948, 0.3142, 0.1709],\n",
            "         [0.8127, 0.7575, 0.0027]],\n",
            "\n",
            "        [[0.0432, 0.3422, 0.1516],\n",
            "         [0.5766, 0.6647, 0.1879]],\n",
            "\n",
            "        [[0.7437, 0.9949, 0.0172],\n",
            "         [0.3276, 0.4432, 0.4088]],\n",
            "\n",
            "        [[0.3911, 0.2956, 0.5776],\n",
            "         [0.1958, 0.6203, 0.1732]]])\n"
          ]
        }
      ]
    },
    {
      "cell_type": "code",
      "source": [
        "### Indexing with tensors\n",
        "# (:) == slicing, -num == len(arr) - num == starting from end\n",
        "x = torch.arange(1, 19).reshape(2, 3, 3)\n",
        "print(x)\n",
        "print(x[:, :, 2])\n"
      ],
      "metadata": {
        "colab": {
          "base_uri": "https://localhost:8080/"
        },
        "id": "WbSiRfAU0QQf",
        "outputId": "4b044fe7-835f-438e-f890-dc28381bfd03"
      },
      "execution_count": null,
      "outputs": [
        {
          "output_type": "stream",
          "name": "stdout",
          "text": [
            "tensor([[[ 1,  2,  3],\n",
            "         [ 4,  5,  6],\n",
            "         [ 7,  8,  9]],\n",
            "\n",
            "        [[10, 11, 12],\n",
            "         [13, 14, 15],\n",
            "         [16, 17, 18]]])\n",
            "tensor([[ 3,  6,  9],\n",
            "        [12, 15, 18]])\n"
          ]
        }
      ]
    }
  ]
}